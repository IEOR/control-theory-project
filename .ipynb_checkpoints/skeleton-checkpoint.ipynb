{
 "cells": [
  {
   "cell_type": "code",
   "execution_count": 9,
   "metadata": {},
   "outputs": [],
   "source": [
    "import sendgrid\n",
    "import os\n",
    "from sendgrid.helpers.mail import *\n",
    "import pyrebase\n",
    "import pymongo\n",
    "import datetime\n",
    "import pprint\n",
    "from twilio.rest import Client\n",
    "from bson import ObjectId"
   ]
  },
  {
   "cell_type": "markdown",
   "metadata": {},
   "source": [
    "Below is the code to to the local mongo db database. Mongo DB has to be installed on the machine for this to work, and there should be a db initialized as \"test database\". There are helper methods below to help make a user, or to print all current users. A user object looks like this:\n",
    "\n",
    "{'_id': ObjectId('5cc791eddd17d02e7d8ae0d4'),\n",
    " 'control_vectors': [],\n",
    " 'email': 'pmakkar97@gmail.com',\n",
    " 'first_name': 'Pal',\n",
    " 'last_name': 'Makkar',\n",
    " 'phone': '4086246734',\n",
    " 'states': [],\n",
    " 'time_added': datetime.datetime(2019, 4, 30, 0, 8, 13, 840000)\n",
    "}"
   ]
  },
  {
   "cell_type": "code",
   "execution_count": 2,
   "metadata": {},
   "outputs": [],
   "source": [
    "def get_db():\n",
    "\tclient = pymongo.MongoClient('mongodb://localhost:27017/')\n",
    "\tdb = client.test_database\n",
    "\n",
    "\treturn db\n"
   ]
  },
  {
   "cell_type": "code",
   "execution_count": 3,
   "metadata": {},
   "outputs": [],
   "source": [
    "db = get_db()"
   ]
  },
  {
   "cell_type": "code",
   "execution_count": 44,
   "metadata": {},
   "outputs": [],
   "source": [
    "def add_user(first_name, last_name, email, phone):\n",
    "\tuser = {\"first_name\": first_name, \"last_name\": last_name, \"email\": email,\"phone\": phone, \"time_added\": datetime.datetime.utcnow(), \"control_vectors\": [], \"states\": []}\n",
    "\tuser_id = db.users.insert_one(user).inserted_id\n",
    "\treturn user_id"
   ]
  },
  {
   "cell_type": "code",
   "execution_count": 45,
   "metadata": {},
   "outputs": [
    {
     "name": "stdout",
     "output_type": "stream",
     "text": [
      "{'_id': ObjectId('5cc791eddd17d02e7d8ae0d4'),\n",
      " 'control_vectors': [],\n",
      " 'email': 'pmakkar97@gmail.com',\n",
      " 'first_name': 'Pal',\n",
      " 'last_name': 'Makkar',\n",
      " 'phone': '4086246734',\n",
      " 'states': [],\n",
      " 'time_added': datetime.datetime(2019, 4, 30, 0, 8, 13, 840000)}\n"
     ]
    }
   ],
   "source": [
    "add_user(\"Pal\", \"Makkar\", \"pmakkar97@gmail.com\", \"4086246734\")\n",
    "pprint.pprint(db.users.find_one())\n"
   ]
  },
  {
   "cell_type": "code",
   "execution_count": 47,
   "metadata": {},
   "outputs": [],
   "source": [
    "def print_users():\n",
    "\tfor x in db.users.find():\n",
    "  \t\tprint(x)"
   ]
  },
  {
   "cell_type": "code",
   "execution_count": 48,
   "metadata": {},
   "outputs": [
    {
     "name": "stdout",
     "output_type": "stream",
     "text": [
      "{'_id': ObjectId('5cc791eddd17d02e7d8ae0d4'), 'first_name': 'Pal', 'last_name': 'Makkar', 'email': 'pmakkar97@gmail.com', 'phone': '4086246734', 'time_added': datetime.datetime(2019, 4, 30, 0, 8, 13, 840000), 'control_vectors': [], 'states': []}\n"
     ]
    }
   ],
   "source": [
    "print_users()"
   ]
  },
  {
   "cell_type": "markdown",
   "metadata": {},
   "source": [
    "Below are helper methods to send an email or text message. The email helper uses the Sendgrid API, and the messaging helper uses the Twilio. An account must be set up for whichever one is used, and the appropriate authentication keys variables must be assigned correctly before use. For Twilio, this is the account_sid and auth_token variables. One secure way to use auth tokens for this purpose is to have a file named \"keys.env\" with the lines \n",
    "\"export SENDGRID_API_KEY='fill in sendgrid key'\" and\n",
    "\"export TWILIO_AUTH='fill in twilio key'\",\n",
    "and then run \"source keys.env\" in the terminal to store these as environment variables for use in the code below."
   ]
  },
  {
   "cell_type": "code",
   "execution_count": 8,
   "metadata": {},
   "outputs": [],
   "source": [
    "def send_email(from_address, to_address, subject, text):\n",
    "\tsg = sendgrid.SendGridAPIClient(apikey=os.environ.get('SENDGRID_API_KEY'))\n",
    "\tfrom_email = Email(from_address)\n",
    "\tto_email = Email(to_address)\n",
    "\tcontent = Content(\"text/plain\", text)\n",
    "\tmail = Mail(from_email, subject, to_email, content)\n",
    "\tresponse = sg.client.mail.send.post(request_body=mail.get())\n",
    "\tprint(response.status_code)\n",
    "\tprint(response.body)\n",
    "\tprint(response.headers)"
   ]
  },
  {
   "cell_type": "code",
   "execution_count": 9,
   "metadata": {},
   "outputs": [],
   "source": [
    "def send_test_email():\n",
    "\tfrom_address = \"test@testing.com\"\n",
    "\tto_address = \"pmakkar97@gmail.com\"\n",
    "\tsubject = \"test\"\n",
    "\ttext = \"test\"\n",
    "\n",
    "\tsend_email(from_address, to_address, subject, text)"
   ]
  },
  {
   "cell_type": "code",
   "execution_count": 30,
   "metadata": {},
   "outputs": [
    {
     "name": "stdout",
     "output_type": "stream",
     "text": [
      "202\n",
      "b''\n",
      "Server: nginx\n",
      "Date: Mon, 29 Apr 2019 23:18:34 GMT\n",
      "Content-Length: 0\n",
      "Connection: close\n",
      "X-Message-Id: _S0rHBVrQnqEeTKLv3CsIQ\n",
      "Access-Control-Allow-Origin: https://sendgrid.api-docs.io\n",
      "Access-Control-Allow-Methods: POST\n",
      "Access-Control-Allow-Headers: Authorization, Content-Type, On-behalf-of, x-sg-elas-acl\n",
      "Access-Control-Max-Age: 600\n",
      "X-No-CORS-Reason: https://sendgrid.com/docs/Classroom/Basics/API/cors.html\n",
      "\n",
      "\n"
     ]
    }
   ],
   "source": [
    "send_test_email()"
   ]
  },
  {
   "cell_type": "code",
   "execution_count": 7,
   "metadata": {},
   "outputs": [],
   "source": [
    "def send_text(from_number, to_number, body):\n",
    "\taccount_sid = 'ACff26b77b06fd2bd97795b331ef0d8d25'\n",
    "\tauth_token = os.environ.get('TWILIO_AUTH')\n",
    "\tclient = Client(account_sid, auth_token)\n",
    "\n",
    "\tmessage = client.messages.create(\n",
    "\t\tbody=body,\n",
    "\t\tfrom_=from_number,\n",
    "\t\tto=to_number\n",
    "\t)\n",
    "\treturn message.sid\n",
    "\n"
   ]
  },
  {
   "cell_type": "code",
   "execution_count": 12,
   "metadata": {},
   "outputs": [
    {
     "name": "stdout",
     "output_type": "stream",
     "text": [
      "SM46ff05f146974d5fafdec4206fcf08df\n"
     ]
    }
   ],
   "source": [
    "def send_test_text():\n",
    "\tprint(send_text('+15623860475', '+14086246734', \"Join Earth's mightiest heroes.\"))\n",
    "    \n",
    "send_test_text()"
   ]
  },
  {
   "cell_type": "markdown",
   "metadata": {},
   "source": [
    "The below cells help add or remove a control vector or state for a user, and the schema for these is flexible. "
   ]
  },
  {
   "cell_type": "code",
   "execution_count": 76,
   "metadata": {},
   "outputs": [
    {
     "name": "stdout",
     "output_type": "stream",
     "text": [
      "{'_id': ObjectId('5cc791eddd17d02e7d8ae0d4'), 'first_name': 'Pal', 'last_name': 'Makkar', 'email': 'pmakkar97@gmail.com', 'phone': '4086246734', 'time_added': datetime.datetime(2019, 4, 30, 0, 8, 13, 840000), 'control_vectors': [{'time_iteration': 1, 'cv_values': {'Python': [8, 1, 10], 'Project': [5, 1, 5]}, 'cv_descriptions': {'Python': 'Ability to use Python (1-10)', 'Project': 'State of project completion (1-5)'}}], 'states': [{'time_iteration': 1, 'state_values': {'Python': [2, 1, 10], 'Project': [1, 1, 5]}, 'time': datetime.datetime(2019, 4, 30, 1, 14, 2, 81000), 'notes': ''}]}\n"
     ]
    }
   ],
   "source": [
    "def add_control_vector(user_id, control_vector):\n",
    "\n",
    "    db.users.update_one(\n",
    "       { \"_id\": user_id },\n",
    "       { \"$push\": { \"control_vectors\": control_vector } }\n",
    "    )\n",
    "    \n",
    "def pop_control_vector(user_id):\n",
    "    db.users.update_one( { \"_id\": user_id }, { \"$pop\": { \"control_vectors\": 1 } } )\n",
    "    \n",
    "    \n",
    "user_id = ObjectId('5cc791eddd17d02e7d8ae0d4')\n",
    "cv = {\"time_iteration\": 1, \"cv_values\": {\"Python\": (8, 1,10), \"Project\": (5,1,5)}, \"cv_descriptions\": {\"Python\": \"Ability to use Python (1-10)\", \"Project\": \"State of project completion (1-5)\"}}\n",
    "\n",
    "      \n",
    "add_control_vector(ObjectId('5cc791eddd17d02e7d8ae0d4'), cv)\n",
    "\n",
    "\n",
    "print(db.users.find_one())\n",
    "      "
   ]
  },
  {
   "cell_type": "code",
   "execution_count": 75,
   "metadata": {},
   "outputs": [
    {
     "name": "stdout",
     "output_type": "stream",
     "text": [
      "{'_id': ObjectId('5cc791eddd17d02e7d8ae0d4'), 'first_name': 'Pal', 'last_name': 'Makkar', 'email': 'pmakkar97@gmail.com', 'phone': '4086246734', 'time_added': datetime.datetime(2019, 4, 30, 0, 8, 13, 840000), 'control_vectors': [], 'states': [{'time_iteration': 1, 'state_values': {'Python': [2, 1, 10], 'Project': [1, 1, 5]}, 'time': datetime.datetime(2019, 4, 30, 1, 14, 2, 81000), 'notes': ''}]}\n"
     ]
    }
   ],
   "source": [
    "def add_state(user_id, state):\n",
    "    db.users.update_one(\n",
    "       { \"_id\": user_id },\n",
    "       { \"$push\": { \"states\": state } }\n",
    "    )\n",
    "    \n",
    "def pop_state(user_id):\n",
    "    db.users.update_one( { \"_id\": user_id }, { \"$pop\": { \"state\": 1 } } )\n",
    "    \n",
    "state = {\n",
    "    \"time_iteration\": 1,\n",
    "    \"state_values\": {\"Python\": (2, 1,10), \"Project\": (1,1,5)},\n",
    "    \"time\":  datetime.datetime.utcnow(),\n",
    "    \"notes\": \"\"\n",
    "}\n",
    "\n",
    "add_state(ObjectId('5cc791eddd17d02e7d8ae0d4'), state)\n",
    "print_users()\n",
    "\n"
   ]
  },
  {
   "cell_type": "markdown",
   "metadata": {},
   "source": [
    "The below code sets up a flask server to run the sample demo. The demo requires you to run this code to start up the server, then you can go to \"http://localhost:5000/\" in a browser, where there is a form to be filled put twith the new user information. Once the form is submitted, a new user is created and they will recieve a text with a target number. Note that from here, the flask server handles incoming messages via Twilio, and needs to have a publically accessible URL. So it needs to be run with ngrok or hosted somewhere on the cloud, with the publically acessible URL set up in the Twilio's recieveing webhooks settings. From there, the user can text back the current number, and the program will respond with whether they should increase the current number, decrease it, or if they've reached the goal. For now, each time the user texts a new number, it is stored as state vector as a tuple with the target, and a control vector is stored with which direction to go along with the target as a tuple."
   ]
  },
  {
   "cell_type": "code",
   "execution_count": null,
   "metadata": {},
   "outputs": [],
   "source": [
    "@app.route('/')\n",
    "def student():\n",
    "   return render_template('student.html')\n",
    "\n",
    "\n",
    "@app.route('/result',methods = ['POST', 'GET'])\n",
    "def result():\n",
    "   if request.method == 'POST':\n",
    "      result = request.form\n",
    "      db = get_db()\n",
    "      target = random.randint(1,101)\n",
    "      add_user(db, result['first'], result['last'], result['email'], result['phone'], target)\n",
    "      \n",
    "      send_text(result['phone'], \"Welcome \" + result['first'] + \"! Your target number is \" + str(target) + \". Send me your current number\")\n",
    "      return render_template(\"result.html\",result = result)\n",
    "\n",
    "\n",
    "@app.route(\"/sms\", methods=['GET', 'POST'])\n",
    "def sms_ahoy_reply():\n",
    "    \"\"\"Respond to incoming messages and put user into the system.\"\"\"\n",
    "\n",
    "    from_number = request.form['From']\n",
    "    to_number = request.form['To']\n",
    "    body = request.form['Body']\n",
    "    curr = int(body)\n",
    "    db = get_db()\n",
    "    user_id = db.users.find_one({\"phone\":from_number})['_id']\n",
    "    target = db.users.find_one({\"phone\":from_number})['target']\n",
    "    add_state(db, user_id, [curr, target])\n",
    "\n",
    "    resp = MessagingResponse()\n",
    "\n",
    "\n",
    "    if curr < target:\n",
    "        step = \"Increase\"\n",
    "    elif curr == target:\n",
    "        step = \"You're done!\"\n",
    "    else:\n",
    "        step = \"Decrease\"\n",
    "\n",
    "    add_control_vector(db, user_id, [step, target])\n",
    "\n",
    "\n",
    "    resp.message(step)\n",
    "\n",
    "    return str(resp)\n",
    "\n",
    "\n",
    "if __name__ == '__main__':\n",
    "   app.run(debug = True)"
   ]
  }
 ],
 "metadata": {
  "kernelspec": {
   "display_name": "Python 3",
   "language": "python",
   "name": "python3"
  },
  "language_info": {
   "codemirror_mode": {
    "name": "ipython",
    "version": 3
   },
   "file_extension": ".py",
   "mimetype": "text/x-python",
   "name": "python",
   "nbconvert_exporter": "python",
   "pygments_lexer": "ipython3",
   "version": "3.6.5"
  }
 },
 "nbformat": 4,
 "nbformat_minor": 2
}
